{
  "nbformat": 4,
  "nbformat_minor": 0,
  "metadata": {
    "colab": {
      "provenance": [],
      "authorship_tag": "ABX9TyNQ1BlbzWItk95AFK7OLUQq",
      "include_colab_link": true
    },
    "kernelspec": {
      "name": "python3",
      "display_name": "Python 3"
    },
    "language_info": {
      "name": "python"
    }
  },
  "cells": [
    {
      "cell_type": "markdown",
      "metadata": {
        "id": "view-in-github",
        "colab_type": "text"
      },
      "source": [
        "<a href=\"https://colab.research.google.com/github/jhansilakshmiragala/Ajackus-assignment/blob/main/FluidAI_py.ipynb\" target=\"_parent\"><img src=\"https://colab.research.google.com/assets/colab-badge.svg\" alt=\"Open In Colab\"/></a>"
      ]
    },
    {
      "cell_type": "code",
      "source": [
        "!pip install google-generativeai\n"
      ],
      "metadata": {
        "colab": {
          "base_uri": "https://localhost:8080/"
        },
        "id": "Nzh9HMnh5FGy",
        "outputId": "3d4e1456-0da8-4ec0-af85-088f996cf859",
        "collapsed": true
      },
      "execution_count": 56,
      "outputs": [
        {
          "output_type": "stream",
          "name": "stdout",
          "text": [
            "Requirement already satisfied: google-generativeai in /usr/local/lib/python3.11/dist-packages (0.8.4)\n",
            "Requirement already satisfied: google-ai-generativelanguage==0.6.15 in /usr/local/lib/python3.11/dist-packages (from google-generativeai) (0.6.15)\n",
            "Requirement already satisfied: google-api-core in /usr/local/lib/python3.11/dist-packages (from google-generativeai) (2.24.1)\n",
            "Requirement already satisfied: google-api-python-client in /usr/local/lib/python3.11/dist-packages (from google-generativeai) (2.160.0)\n",
            "Requirement already satisfied: google-auth>=2.15.0 in /usr/local/lib/python3.11/dist-packages (from google-generativeai) (2.27.0)\n",
            "Requirement already satisfied: protobuf in /usr/local/lib/python3.11/dist-packages (from google-generativeai) (4.25.6)\n",
            "Requirement already satisfied: pydantic in /usr/local/lib/python3.11/dist-packages (from google-generativeai) (2.10.6)\n",
            "Requirement already satisfied: tqdm in /usr/local/lib/python3.11/dist-packages (from google-generativeai) (4.67.1)\n",
            "Requirement already satisfied: typing-extensions in /usr/local/lib/python3.11/dist-packages (from google-generativeai) (4.12.2)\n",
            "Requirement already satisfied: proto-plus<2.0.0dev,>=1.22.3 in /usr/local/lib/python3.11/dist-packages (from google-ai-generativelanguage==0.6.15->google-generativeai) (1.26.0)\n",
            "Requirement already satisfied: googleapis-common-protos<2.0.dev0,>=1.56.2 in /usr/local/lib/python3.11/dist-packages (from google-api-core->google-generativeai) (1.67.0)\n",
            "Requirement already satisfied: requests<3.0.0.dev0,>=2.18.0 in /usr/local/lib/python3.11/dist-packages (from google-api-core->google-generativeai) (2.32.3)\n",
            "Requirement already satisfied: cachetools<6.0,>=2.0.0 in /usr/local/lib/python3.11/dist-packages (from google-auth>=2.15.0->google-generativeai) (5.5.1)\n",
            "Requirement already satisfied: pyasn1-modules>=0.2.1 in /usr/local/lib/python3.11/dist-packages (from google-auth>=2.15.0->google-generativeai) (0.4.1)\n",
            "Requirement already satisfied: rsa<5,>=3.1.4 in /usr/local/lib/python3.11/dist-packages (from google-auth>=2.15.0->google-generativeai) (4.9)\n",
            "Requirement already satisfied: httplib2<1.dev0,>=0.19.0 in /usr/local/lib/python3.11/dist-packages (from google-api-python-client->google-generativeai) (0.22.0)\n",
            "Requirement already satisfied: google-auth-httplib2<1.0.0,>=0.2.0 in /usr/local/lib/python3.11/dist-packages (from google-api-python-client->google-generativeai) (0.2.0)\n",
            "Requirement already satisfied: uritemplate<5,>=3.0.1 in /usr/local/lib/python3.11/dist-packages (from google-api-python-client->google-generativeai) (4.1.1)\n",
            "Requirement already satisfied: annotated-types>=0.6.0 in /usr/local/lib/python3.11/dist-packages (from pydantic->google-generativeai) (0.7.0)\n",
            "Requirement already satisfied: pydantic-core==2.27.2 in /usr/local/lib/python3.11/dist-packages (from pydantic->google-generativeai) (2.27.2)\n",
            "Requirement already satisfied: grpcio<2.0dev,>=1.33.2 in /usr/local/lib/python3.11/dist-packages (from google-api-core[grpc]!=2.0.*,!=2.1.*,!=2.10.*,!=2.2.*,!=2.3.*,!=2.4.*,!=2.5.*,!=2.6.*,!=2.7.*,!=2.8.*,!=2.9.*,<3.0.0dev,>=1.34.1->google-ai-generativelanguage==0.6.15->google-generativeai) (1.70.0)\n",
            "Requirement already satisfied: grpcio-status<2.0.dev0,>=1.33.2 in /usr/local/lib/python3.11/dist-packages (from google-api-core[grpc]!=2.0.*,!=2.1.*,!=2.10.*,!=2.2.*,!=2.3.*,!=2.4.*,!=2.5.*,!=2.6.*,!=2.7.*,!=2.8.*,!=2.9.*,<3.0.0dev,>=1.34.1->google-ai-generativelanguage==0.6.15->google-generativeai) (1.62.3)\n",
            "Requirement already satisfied: pyparsing!=3.0.0,!=3.0.1,!=3.0.2,!=3.0.3,<4,>=2.4.2 in /usr/local/lib/python3.11/dist-packages (from httplib2<1.dev0,>=0.19.0->google-api-python-client->google-generativeai) (3.2.1)\n",
            "Requirement already satisfied: pyasn1<0.7.0,>=0.4.6 in /usr/local/lib/python3.11/dist-packages (from pyasn1-modules>=0.2.1->google-auth>=2.15.0->google-generativeai) (0.6.1)\n",
            "Requirement already satisfied: charset-normalizer<4,>=2 in /usr/local/lib/python3.11/dist-packages (from requests<3.0.0.dev0,>=2.18.0->google-api-core->google-generativeai) (3.4.1)\n",
            "Requirement already satisfied: idna<4,>=2.5 in /usr/local/lib/python3.11/dist-packages (from requests<3.0.0.dev0,>=2.18.0->google-api-core->google-generativeai) (3.10)\n",
            "Requirement already satisfied: urllib3<3,>=1.21.1 in /usr/local/lib/python3.11/dist-packages (from requests<3.0.0.dev0,>=2.18.0->google-api-core->google-generativeai) (2.3.0)\n",
            "Requirement already satisfied: certifi>=2017.4.17 in /usr/local/lib/python3.11/dist-packages (from requests<3.0.0.dev0,>=2.18.0->google-api-core->google-generativeai) (2025.1.31)\n"
          ]
        }
      ]
    },
    {
      "cell_type": "code",
      "source": [
        "import google.generativeai as genai #Code for Single PDF\n",
        "import PyPDF2\n",
        "import re\n",
        "import os\n",
        "from dotenv import load_dotenv\n",
        "\n",
        "# Mount Google Drive\n",
        "from google.colab import drive\n",
        "drive.mount('/content/drive')\n",
        "\n",
        "# Load environment variables from Google Drive\n",
        "env_path = \"/content/drive/My Drive/apikey.env\"\n",
        "load_dotenv(env_path)\n",
        "\n",
        "# Retrieve API key securely\n",
        "api_key = os.getenv(\"GOOGLE_API_KEY\")\n",
        "\n",
        "# Configure Google Gemini AI\n",
        "if api_key:\n",
        "    genai.configure(api_key=api_key)\n",
        "    print(\"✅ API Key Loaded Securely from Google Drive\")\n",
        "else:\n",
        "    print(\"❌ Error: API Key Not Found! Make sure to store it in Google Drive.\")\n",
        "\n",
        "# Function to extract text from PDF\n",
        "def extract_text_from_pdf(pdf_path):\n",
        "    text = \"\"\n",
        "    with open(pdf_path, \"rb\") as file:\n",
        "        reader = PyPDF2.PdfReader(file)\n",
        "        for page in reader.pages:\n",
        "            text += page.extract_text() + \"\\n\"\n",
        "    return text\n",
        "\n",
        "# Function to clean extracted text\n",
        "def clean_text(text):\n",
        "    text = re.sub(r'\\s+', ' ', text)  # Remove extra spaces and newlines\n",
        "    return text.strip()\n",
        "\n",
        "# Function to extract insights using Google Gemini AI\n",
        "def extract_insights(text):\n",
        "    model = genai.GenerativeModel(\"gemini-pro\")  # Use Google's Gemini Pro model\n",
        "    response = model.generate_content(f'''\n",
        "    Extract key financial and business insights from the following earnings call transcript:\n",
        "\n",
        "    {text[:8000]}  # Limit text size to avoid errors\n",
        "\n",
        "    Identify:\n",
        "    - Future growth prospects\n",
        "    - Key changes in business strategy\n",
        "    - Revenue triggers\n",
        "    - Material effects on next year's earnings\n",
        "    - Important financial figures (Revenue, EBITDA, PAT, CAPEX, etc.)\n",
        "    - Risks and challenges the company might face\n",
        "    - Sentiment analysis (Positive, Neutral, or Negative)\n",
        "\n",
        "    Provide a structured summary with bullet points.\n",
        "    ''')\n",
        "    return response.text\n",
        "\n",
        "# Define the PDF file path\n",
        "pdf_path = \"/content/drive/My Drive/SJS Transcript Call.pdf\"  # Update if needed\n",
        "\n",
        "# Run the functions\n",
        "extracted_text = extract_text_from_pdf(pdf_path)\n",
        "cleaned_text = clean_text(extracted_text)\n",
        "insights = extract_insights(cleaned_text)\n",
        "\n",
        "# Save the output to a file\n",
        "insights_file = \"/content/drive/My Drive/Investor_Insights.txt\"\n",
        "with open(insights_file, \"w\") as file:\n",
        "    file.write(insights)\n",
        "\n",
        "print(\"Extracted Key Insights:\")\n",
        "print(insights)\n",
        "print(f\"Insights saved permanently in Google Drive: {insights_file}\")\n"
      ],
      "metadata": {
        "colab": {
          "base_uri": "https://localhost:8080/",
          "height": 696
        },
        "id": "UYtcyXolOaQe",
        "outputId": "c5c76e2c-d0ea-477b-8488-38319e95f9b7"
      },
      "execution_count": 57,
      "outputs": [
        {
          "output_type": "stream",
          "name": "stdout",
          "text": [
            "Drive already mounted at /content/drive; to attempt to forcibly remount, call drive.mount(\"/content/drive\", force_remount=True).\n",
            "✅ API Key Loaded Securely from Google Drive\n",
            "Extracted Key Insights:\n",
            "**Future growth prospects:**\n",
            "\n",
            "* SJS Enterprises plans to continue focusing on inorganic growth through acquisitions to strengthen its market leadership in the aesthetics business.\n",
            "\n",
            "**Key changes in business strategy:**\n",
            "\n",
            "* Increasing focus on passenger vehicles and consumer appliances, and reducing reliance on two-wheelers.\n",
            "\n",
            "**Revenue triggers:**\n",
            "\n",
            "* Cross-selling opportunities and synergies between SJS, Exotech, and Walter Pack India.\n",
            "* Expansion into new and emerging technologies and customer segments.\n",
            "\n",
            "**Material effects on next year's earnings:**\n",
            "\n",
            "* Enhanced revenue growth and margin performance due to the acquisition of Walter Pack India.\n",
            "* Increased manufacturing capabilities and increased management bandwidth.\n",
            "\n",
            "**Important financial figures:**\n",
            "\n",
            "* **Revenue:** Consolidated revenues grew by 13.6% YoY to Rs. 77.1 million in Q1 FY24. Automotive segment revenue grew by 18.6% YoY.\n",
            "* **EBITDA:** Walter Pack India reported EBITDA margins around 31.5% in Q1 FY24.\n",
            "* **PAT:** Not provided in the transcript.\n",
            "* **CAPEX:** Not provided in the transcript.\n",
            "\n",
            "**Risks and challenges the company might face:**\n",
            "\n",
            "* Integration challenges related to the acquisition of Walter Pack India.\n",
            "* Intense competition in the automotive industry.\n",
            "* Economic slowdown or fluctuations in demand.\n",
            "\n",
            "**Sentiment analysis:**\n",
            "\n",
            "* Positive. The transcript conveys a sense of optimism about the company's future growth prospects and its ability to execute its acquisition strategy.\n",
            "Insights saved permanently in Google Drive: /content/drive/My Drive/Investor_Insights.txt\n"
          ]
        }
      ]
    },
    {
      "cell_type": "code",
      "source": [
        "import google.generativeai as genai #Code for multiple files->Handles Multiple PDFs\n",
        "import PyPDF2\n",
        "import re\n",
        "import os\n",
        "from dotenv import load_dotenv\n",
        "from google.colab import drive\n",
        "\n",
        "def mount_drive():\n",
        "    drive.mount('/content/drive')\n",
        "\n",
        "def load_api_key():\n",
        "    env_path = \"/content/drive/My Drive/apikey.env\"\n",
        "    load_dotenv(env_path)\n",
        "    api_key = os.getenv(\"GOOGLE_API_KEY\")\n",
        "    if not api_key:\n",
        "        raise ValueError(\"❌ API Key is missing! Ensure it is stored in Google Drive.\")\n",
        "    genai.configure(api_key=api_key)\n",
        "    print(\"✅ API Key Loaded Securely from Google Drive\")\n",
        "\n",
        "def extract_text_from_pdf(pdf_path):\n",
        "    try:\n",
        "        text = \"\"\n",
        "        with open(pdf_path, \"rb\") as file:\n",
        "            reader = PyPDF2.PdfReader(file)\n",
        "            for page in reader.pages:\n",
        "                page_text = page.extract_text()\n",
        "                if page_text:\n",
        "                    text += page_text + \"\\n\"\n",
        "        if not text.strip():\n",
        "            print(f\"⚠️ No text extracted from {pdf_path}. It may be an image-based PDF.\")\n",
        "        return text.strip()\n",
        "    except Exception as e:\n",
        "        print(f\"❌ Error processing {pdf_path}: {e}\")\n",
        "        return \"\"\n",
        "\n",
        "def clean_text(text):\n",
        "    return re.sub(r'\\s+', ' ', text).strip()\n",
        "\n",
        "def extract_insights(text):\n",
        "    if not text:\n",
        "        return \"⚠️ No insights generated. The input text was empty.\"\n",
        "\n",
        "    model = genai.GenerativeModel(\"gemini-pro\")\n",
        "    prompt = f'''\n",
        "    Extract key financial and business insights from the following earnings call transcript:\n",
        "    {text[:8000]}\n",
        "\n",
        "    Identify:\n",
        "    - Future growth prospects\n",
        "    - Key changes in business strategy\n",
        "    - Revenue triggers\n",
        "    - Material effects on next year's earnings\n",
        "    - Important financial figures (Revenue, EBITDA, PAT, CAPEX, etc.)\n",
        "    - Risks and challenges the company might face (if not explicitly mentioned, infer possible risks)\n",
        "    - Sentiment analysis (Positive, Neutral, or Negative)\n",
        "\n",
        "    Provide a structured summary with bullet points.\n",
        "    '''\n",
        "\n",
        "    try:\n",
        "        response = model.generate_content(prompt)\n",
        "        return response.text.strip() if response else \"⚠️ No insights received from Gemini API.\"\n",
        "    except Exception as e:\n",
        "        return f\"❌ Error generating insights: {e}\"\n",
        "\n",
        "def process_pdfs(pdf_folder):\n",
        "    insights_folder = \"/content/drive/My Drive/Investor_Insights\"\n",
        "    os.makedirs(insights_folder, exist_ok=True)\n",
        "\n",
        "    for filename in os.listdir(pdf_folder):\n",
        "        if filename.endswith(\".pdf\"):\n",
        "            pdf_path = os.path.join(pdf_folder, filename)\n",
        "            print(f\"📄 Processing {filename}...\")\n",
        "            extracted_text = extract_text_from_pdf(pdf_path)\n",
        "            cleaned_text = clean_text(extracted_text)\n",
        "            insights = extract_insights(cleaned_text)\n",
        "\n",
        "            insights_file = os.path.join(insights_folder, f\"{filename.replace('.pdf', '_Insights.txt')}\")\n",
        "            with open(insights_file, \"w\") as file:\n",
        "                file.write(insights)\n",
        "            print(f\"✅ Insights saved: {insights_file}\\n\")\n",
        "\n",
        "def main():\n",
        "    mount_drive()\n",
        "    load_api_key()\n",
        "    pdf_folder = \"/content/drive/My Drive/Investor_PDFs\"\n",
        "    process_pdfs(pdf_folder)\n",
        "\n",
        "if __name__ == \"__main__\":\n",
        "    main()\n"
      ],
      "metadata": {
        "colab": {
          "base_uri": "https://localhost:8080/",
          "height": 104
        },
        "id": "jhhYKVltoBqk",
        "outputId": "ef6cc3c1-e492-4867-ab72-591b475b6a74"
      },
      "execution_count": 58,
      "outputs": [
        {
          "output_type": "stream",
          "name": "stdout",
          "text": [
            "Drive already mounted at /content/drive; to attempt to forcibly remount, call drive.mount(\"/content/drive\", force_remount=True).\n",
            "✅ API Key Loaded Securely from Google Drive\n",
            "📄 Processing SJS Transcript Call.pdf...\n",
            "✅ Insights saved: /content/drive/My Drive/Investor_Insights/SJS Transcript Call_Insights.txt\n",
            "\n"
          ]
        }
      ]
    },
    {
      "cell_type": "code",
      "source": [
        "!pip install python-dotenv\n"
      ],
      "metadata": {
        "colab": {
          "base_uri": "https://localhost:8080/"
        },
        "id": "wflapI8fA27-",
        "outputId": "c18edbda-b623-48ff-ddbc-7c04ef2fa46e"
      },
      "execution_count": null,
      "outputs": [
        {
          "output_type": "stream",
          "name": "stdout",
          "text": [
            "Requirement already satisfied: python-dotenv in /usr/local/lib/python3.11/dist-packages (1.0.1)\n"
          ]
        }
      ]
    },
    {
      "cell_type": "code",
      "source": [
        "!pip install PyPDF2"
      ],
      "metadata": {
        "colab": {
          "base_uri": "https://localhost:8080/"
        },
        "id": "TFTD8aaiAmAV",
        "outputId": "d2d656b2-c97e-47cb-b6e8-ac96b1f9b16e"
      },
      "execution_count": null,
      "outputs": [
        {
          "output_type": "stream",
          "name": "stdout",
          "text": [
            "Requirement already satisfied: PyPDF2 in /usr/local/lib/python3.11/dist-packages (3.0.1)\n"
          ]
        }
      ]
    },
    {
      "cell_type": "code",
      "source": [
        "from google.colab import drive\n",
        "drive.mount('/content/drive')\n"
      ],
      "metadata": {
        "colab": {
          "base_uri": "https://localhost:8080/"
        },
        "id": "G0rEXobn5FVk",
        "outputId": "88b3555e-9acc-4ec1-dc96-259f0799db4d"
      },
      "execution_count": null,
      "outputs": [
        {
          "output_type": "stream",
          "name": "stdout",
          "text": [
            "Drive already mounted at /content/drive; to attempt to forcibly remount, call drive.mount(\"/content/drive\", force_remount=True).\n"
          ]
        }
      ]
    }
  ]
}